{
 "cells": [
  {
   "cell_type": "markdown",
   "id": "179f76df",
   "metadata": {},
   "source": [
    "# Sentiment Analysis\n",
    "Sentiment analysis is contextual mining of text which identifies and extracts subjective information in source material, and helping a business to understand the social sentiment of their brand, product or service while monitoring online conversations."
   ]
  },
  {
   "cell_type": "code",
   "execution_count": 82,
   "id": "cc97c6c7",
   "metadata": {},
   "outputs": [],
   "source": [
    "import json # import json\n",
    "import numpy as np # import numpy\n",
    "import matplotlib.pyplot as plt\n",
    "import itertools # import itertools \n",
    "import tensorflow as tf # import tensorflow"
   ]
  },
  {
   "cell_type": "code",
   "execution_count": 5,
   "id": "d6f23626",
   "metadata": {},
   "outputs": [
    {
     "data": {
      "text/plain": [
       "'2.8.0'"
      ]
     },
     "execution_count": 5,
     "metadata": {},
     "output_type": "execute_result"
    }
   ],
   "source": [
    "tf.__version__"
   ]
  },
  {
   "cell_type": "code",
   "execution_count": 8,
   "id": "178d3e87",
   "metadata": {},
   "outputs": [],
   "source": [
    "from tensorflow.keras.preprocessing.text import Tokenizer\n",
    "from tensorflow.keras.preprocessing.sequence import pad_sequences"
   ]
  },
  {
   "cell_type": "code",
   "execution_count": 10,
   "id": "15a0602b",
   "metadata": {},
   "outputs": [],
   "source": [
    "vocab_size = 10000\n",
    "embedding_dim = 16\n",
    "max_length = 100\n",
    "trunc_type = 'post'\n",
    "padding_type = 'post'\n",
    "oov_tok = '<OOV>' # out of vocabulary\n",
    "training_size = 20000 # training size from the data set"
   ]
  },
  {
   "cell_type": "markdown",
   "id": "04f1edf5",
   "metadata": {},
   "source": [
    "## Load json file"
   ]
  },
  {
   "cell_type": "code",
   "execution_count": 11,
   "id": "bf6f9883",
   "metadata": {},
   "outputs": [],
   "source": [
    "with open(\"sarcasm.json\", \"r\") as f: # reading our json file \n",
    "    df = json.load(f)"
   ]
  },
  {
   "cell_type": "code",
   "execution_count": 14,
   "id": "30a76870",
   "metadata": {},
   "outputs": [],
   "source": [
    "sentences = [] # list for our sentences\n",
    "labels = [] # list containing our labels i.e either 0 or 1 sentiment\n",
    "\n",
    "for item in df:\n",
    "    sentences.append(item['headline'])\n",
    "    labels.append(item['is_sarcastic'])"
   ]
  },
  {
   "cell_type": "code",
   "execution_count": 23,
   "id": "3ffa88a0",
   "metadata": {},
   "outputs": [
    {
     "name": "stdout",
     "output_type": "stream",
     "text": [
      "26709\n"
     ]
    }
   ],
   "source": [
    "#print(labels\n",
    "print(len(sentences))"
   ]
  },
  {
   "cell_type": "markdown",
   "id": "c6fae471",
   "metadata": {},
   "source": [
    "## Splitting our data into training and testing "
   ]
  },
  {
   "cell_type": "code",
   "execution_count": 64,
   "id": "9374e9af",
   "metadata": {},
   "outputs": [],
   "source": [
    "training_sentences = sentences[0:training_size] # 20000 from the total data set\n",
    "testing_sentences = sentences[training_size:] # size 6709 part for testing\n",
    "training_labels = labels[0:training_size] # size 20000 from the label\n",
    "testing_labels = labels[training_size:] # size 6709 from the label for testing"
   ]
  },
  {
   "cell_type": "markdown",
   "id": "4af1c8cd",
   "metadata": {},
   "source": [
    "## Preprocessing and  Tokenization "
   ]
  },
  {
   "cell_type": "code",
   "execution_count": 65,
   "id": "f3467a1a",
   "metadata": {},
   "outputs": [],
   "source": [
    "from tensorflow.keras.preprocessing.text import Tokenizer\n",
    "oov_tok = '<OOV>' # out of vocabulary\n",
    "\n",
    "tokenizer = Tokenizer(num_words = vocab_size, oov_token=oov_tok)\n",
    "#Updates internal vocabulary based on a list of texts.\n",
    "tokenizer.fit_on_texts(training_sentences) "
   ]
  },
  {
   "cell_type": "code",
   "execution_count": 66,
   "id": "1883c936",
   "metadata": {},
   "outputs": [
    {
     "name": "stdout",
     "output_type": "stream",
     "text": [
      "{'<OOV>': 1, 'to': 2, 'of': 3, 'the': 4, 'in': 5, 'for': 6, 'a': 7, 'on': 8, 'and': 9, 'with': 10}\n"
     ]
    }
   ],
   "source": [
    "word_index = tokenizer.word_index\n",
    "word_index.items()\n",
    "\n",
    "#print first 10 samples\n",
    "print(dict(itertools.islice(word_index.items(), 10)))"
   ]
  },
  {
   "cell_type": "code",
   "execution_count": 67,
   "id": "45f33a89",
   "metadata": {},
   "outputs": [],
   "source": [
    "#Transforms each text in texts to a sequence of integers.\n",
    "training_sequences = tokenizer.texts_to_sequences(training_sentences)\n",
    "\n",
    "# padding : String, 'pre' or 'post' (optional, defaults to 'pre'): \n",
    "#pad either before or after each sequence.\n",
    "\n",
    "# Truncating: String, 'pre' or 'post' (optional, defaults to 'pre'): remove values from sequences larger than maxlen, \n",
    "#either at the beginning or at the end of the sequences.\n",
    "\n",
    "max_length = 100\n",
    "trunc_type = 'post'\n",
    "padding_type = 'post'\n",
    "training_padded = pad_sequences(training_sequences, maxlen = max_length,\n",
    "                               padding=padding_type, truncating=trunc_type)\n",
    "# Same for testing setences\n",
    "testing_sequences = tokenizer.texts_to_sequences(testing_sentences)\n",
    "\n",
    "testing_padded = pad_sequences(testing_sequences, maxlen = max_length,\n",
    "                               padding=padding_type, truncating=trunc_type)\n"
   ]
  },
  {
   "cell_type": "code",
   "execution_count": 68,
   "id": "7ad23a30",
   "metadata": {},
   "outputs": [
    {
     "data": {
      "text/plain": [
       "[[4, 6840, 3096, 3097, 23, 2, 161, 1, 390, 2842, 6, 251, 9, 889],\n",
       " [153, 890, 2, 891, 1445, 2215, 595, 5650, 221, 133, 36, 45, 2, 8864],\n",
       " [1252, 38, 213, 382, 2, 1572, 29, 288, 23, 10, 2405, 1446, 5651, 958]]"
      ]
     },
     "execution_count": 68,
     "metadata": {},
     "output_type": "execute_result"
    }
   ],
   "source": [
    "training_sequences[1:4] # sample"
   ]
  },
  {
   "cell_type": "code",
   "execution_count": 69,
   "id": "54164184",
   "metadata": {},
   "outputs": [
    {
     "data": {
      "text/plain": [
       "array([   4, 6840, 3096, 3097,   23,    2,  161,    1,  390, 2842,    6,\n",
       "        251,    9,  889,    0,    0,    0,    0,    0,    0,    0,    0,\n",
       "          0,    0,    0,    0,    0,    0,    0,    0,    0,    0,    0,\n",
       "          0,    0,    0,    0,    0,    0,    0,    0,    0,    0,    0,\n",
       "          0,    0,    0,    0,    0,    0,    0,    0,    0,    0,    0,\n",
       "          0,    0,    0,    0,    0,    0,    0,    0,    0,    0,    0,\n",
       "          0,    0,    0,    0,    0,    0,    0,    0,    0,    0,    0,\n",
       "          0,    0,    0,    0,    0,    0,    0,    0,    0,    0,    0,\n",
       "          0,    0,    0,    0,    0,    0,    0,    0,    0,    0,    0,\n",
       "          0], dtype=int32)"
      ]
     },
     "execution_count": 69,
     "metadata": {},
     "output_type": "execute_result"
    }
   ],
   "source": [
    "training_padded[1] # sample after padding"
   ]
  },
  {
   "cell_type": "markdown",
   "id": "46072ed7",
   "metadata": {},
   "source": [
    "## Converting to arrays"
   ]
  },
  {
   "cell_type": "code",
   "execution_count": 74,
   "id": "f715c873",
   "metadata": {},
   "outputs": [
    {
     "data": {
      "text/plain": [
       "numpy.ndarray"
      ]
     },
     "execution_count": 74,
     "metadata": {},
     "output_type": "execute_result"
    }
   ],
   "source": [
    "training_padded = np.array(training_padded)\n",
    "training_labels = np.array(training_labels)\n",
    "\n",
    "testing_padded = np.array(testing_padded)\n",
    "testing_labels = np.array(testing_labels)\n",
    "type(testing_labels)"
   ]
  },
  {
   "cell_type": "markdown",
   "id": "fea60cb5",
   "metadata": {},
   "source": [
    "## Building our model"
   ]
  },
  {
   "cell_type": "code",
   "execution_count": 80,
   "id": "80463f01",
   "metadata": {},
   "outputs": [
    {
     "name": "stdout",
     "output_type": "stream",
     "text": [
      "Model: \"sequential_4\"\n",
      "_________________________________________________________________\n",
      " Layer (type)                Output Shape              Param #   \n",
      "=================================================================\n",
      " embedding_4 (Embedding)     (None, 100, 16)           160000    \n",
      "                                                                 \n",
      " global_average_pooling1d_4   (None, 16)               0         \n",
      " (GlobalAveragePooling1D)                                        \n",
      "                                                                 \n",
      " dense_8 (Dense)             (None, 24)                408       \n",
      "                                                                 \n",
      " dense_9 (Dense)             (None, 1)                 25        \n",
      "                                                                 \n",
      "=================================================================\n",
      "Total params: 160,433\n",
      "Trainable params: 160,433\n",
      "Non-trainable params: 0\n",
      "_________________________________________________________________\n"
     ]
    }
   ],
   "source": [
    "vocab_size = 10000\n",
    "embedding_dim = 16\n",
    "max_length = 100\n",
    "\n",
    "model = tf.keras.Sequential([\n",
    "    tf.keras.layers.Embedding(vocab_size, embedding_dim, input_length = max_length),\n",
    "    tf.keras.layers.GlobalAveragePooling1D(),\n",
    "    tf.keras.layers.Dense(24, activation = \"relu\"),\n",
    "    tf.keras.layers.Dense(1, activation = \"sigmoid\" )\n",
    "])\n",
    "\n",
    "model.compile(loss = 'binary_crossentropy', optimizer = 'adam', metrics = [ 'accuracy'] )\n",
    "model.summary()"
   ]
  },
  {
   "cell_type": "code",
   "execution_count": 81,
   "id": "e2dca56f",
   "metadata": {},
   "outputs": [
    {
     "name": "stdout",
     "output_type": "stream",
     "text": [
      "Epoch 1/30\n"
     ]
    },
    {
     "name": "stderr",
     "output_type": "stream",
     "text": [
      "2022-02-16 07:52:13.985270: W tensorflow/core/platform/profile_utils/cpu_utils.cc:128] Failed to get CPU frequency: 0 Hz\n",
      "2022-02-16 07:52:14.345507: I tensorflow/core/grappler/optimizers/custom_graph_optimizer_registry.cc:113] Plugin optimizer for device_type GPU is enabled.\n",
      "2022-02-16 07:52:24.874279: I tensorflow/core/grappler/optimizers/custom_graph_optimizer_registry.cc:113] Plugin optimizer for device_type GPU is enabled.\n"
     ]
    },
    {
     "name": "stdout",
     "output_type": "stream",
     "text": [
      "625/625 - 11s - loss: 0.6582 - accuracy: 0.5949 - val_loss: 0.5542 - val_accuracy: 0.7795 - 11s/epoch - 18ms/step\n",
      "Epoch 2/30\n",
      "625/625 - 9s - loss: 0.4086 - accuracy: 0.8405 - val_loss: 0.3754 - val_accuracy: 0.8414 - 9s/epoch - 14ms/step\n",
      "Epoch 3/30\n",
      "625/625 - 9s - loss: 0.2942 - accuracy: 0.8835 - val_loss: 0.3508 - val_accuracy: 0.8514 - 9s/epoch - 14ms/step\n",
      "Epoch 4/30\n",
      "625/625 - 9s - loss: 0.2437 - accuracy: 0.9046 - val_loss: 0.3485 - val_accuracy: 0.8499 - 9s/epoch - 14ms/step\n",
      "Epoch 5/30\n",
      "625/625 - 9s - loss: 0.2095 - accuracy: 0.9195 - val_loss: 0.3500 - val_accuracy: 0.8566 - 9s/epoch - 14ms/step\n",
      "Epoch 6/30\n",
      "625/625 - 9s - loss: 0.1816 - accuracy: 0.9318 - val_loss: 0.3592 - val_accuracy: 0.8547 - 9s/epoch - 14ms/step\n",
      "Epoch 7/30\n",
      "625/625 - 8s - loss: 0.1607 - accuracy: 0.9406 - val_loss: 0.3782 - val_accuracy: 0.8530 - 8s/epoch - 14ms/step\n",
      "Epoch 8/30\n",
      "625/625 - 9s - loss: 0.1424 - accuracy: 0.9479 - val_loss: 0.4026 - val_accuracy: 0.8498 - 9s/epoch - 14ms/step\n",
      "Epoch 9/30\n",
      "625/625 - 9s - loss: 0.1298 - accuracy: 0.9526 - val_loss: 0.4267 - val_accuracy: 0.8447 - 9s/epoch - 14ms/step\n",
      "Epoch 10/30\n",
      "625/625 - 9s - loss: 0.1144 - accuracy: 0.9604 - val_loss: 0.4454 - val_accuracy: 0.8481 - 9s/epoch - 14ms/step\n",
      "Epoch 11/30\n",
      "625/625 - 9s - loss: 0.1035 - accuracy: 0.9637 - val_loss: 0.4992 - val_accuracy: 0.8354 - 9s/epoch - 14ms/step\n",
      "Epoch 12/30\n",
      "625/625 - 9s - loss: 0.0937 - accuracy: 0.9678 - val_loss: 0.5121 - val_accuracy: 0.8410 - 9s/epoch - 14ms/step\n",
      "Epoch 13/30\n",
      "625/625 - 8s - loss: 0.0869 - accuracy: 0.9697 - val_loss: 0.5460 - val_accuracy: 0.8381 - 8s/epoch - 13ms/step\n",
      "Epoch 14/30\n",
      "625/625 - 8s - loss: 0.0774 - accuracy: 0.9740 - val_loss: 0.5865 - val_accuracy: 0.8301 - 8s/epoch - 13ms/step\n",
      "Epoch 15/30\n",
      "625/625 - 8s - loss: 0.0716 - accuracy: 0.9765 - val_loss: 0.6173 - val_accuracy: 0.8269 - 8s/epoch - 13ms/step\n",
      "Epoch 16/30\n",
      "625/625 - 8s - loss: 0.0686 - accuracy: 0.9765 - val_loss: 0.6441 - val_accuracy: 0.8314 - 8s/epoch - 14ms/step\n",
      "Epoch 17/30\n",
      "625/625 - 9s - loss: 0.0602 - accuracy: 0.9815 - val_loss: 0.6800 - val_accuracy: 0.8272 - 9s/epoch - 14ms/step\n",
      "Epoch 18/30\n",
      "625/625 - 8s - loss: 0.0548 - accuracy: 0.9827 - val_loss: 0.7209 - val_accuracy: 0.8237 - 8s/epoch - 13ms/step\n",
      "Epoch 19/30\n",
      "625/625 - 9s - loss: 0.0497 - accuracy: 0.9849 - val_loss: 0.7729 - val_accuracy: 0.8247 - 9s/epoch - 14ms/step\n",
      "Epoch 20/30\n",
      "625/625 - 9s - loss: 0.0455 - accuracy: 0.9862 - val_loss: 0.7964 - val_accuracy: 0.8231 - 9s/epoch - 14ms/step\n",
      "Epoch 21/30\n",
      "625/625 - 9s - loss: 0.0420 - accuracy: 0.9877 - val_loss: 0.8629 - val_accuracy: 0.8208 - 9s/epoch - 14ms/step\n",
      "Epoch 22/30\n",
      "625/625 - 9s - loss: 0.0383 - accuracy: 0.9885 - val_loss: 0.8800 - val_accuracy: 0.8216 - 9s/epoch - 14ms/step\n",
      "Epoch 23/30\n",
      "625/625 - 8s - loss: 0.0332 - accuracy: 0.9906 - val_loss: 0.9243 - val_accuracy: 0.8188 - 8s/epoch - 13ms/step\n",
      "Epoch 24/30\n",
      "625/625 - 9s - loss: 0.0312 - accuracy: 0.9911 - val_loss: 0.9760 - val_accuracy: 0.8183 - 9s/epoch - 14ms/step\n",
      "Epoch 25/30\n",
      "625/625 - 9s - loss: 0.0297 - accuracy: 0.9913 - val_loss: 1.0146 - val_accuracy: 0.8144 - 9s/epoch - 14ms/step\n",
      "Epoch 26/30\n",
      "625/625 - 9s - loss: 0.0261 - accuracy: 0.9924 - val_loss: 1.0519 - val_accuracy: 0.8149 - 9s/epoch - 14ms/step\n",
      "Epoch 27/30\n",
      "625/625 - 9s - loss: 0.0270 - accuracy: 0.9920 - val_loss: 1.1339 - val_accuracy: 0.8140 - 9s/epoch - 14ms/step\n",
      "Epoch 28/30\n",
      "625/625 - 9s - loss: 0.0247 - accuracy: 0.9929 - val_loss: 1.1451 - val_accuracy: 0.8129 - 9s/epoch - 14ms/step\n",
      "Epoch 29/30\n",
      "625/625 - 8s - loss: 0.0200 - accuracy: 0.9945 - val_loss: 1.2005 - val_accuracy: 0.8117 - 8s/epoch - 13ms/step\n",
      "Epoch 30/30\n",
      "625/625 - 8s - loss: 0.0201 - accuracy: 0.9938 - val_loss: 1.2393 - val_accuracy: 0.8092 - 8s/epoch - 14ms/step\n"
     ]
    }
   ],
   "source": [
    "# training our model\n",
    "epochs = 30\n",
    "history = model.fit(training_padded,\n",
    "                   training_labels,\n",
    "                   epochs=epochs,\n",
    "                   validation_data = (testing_padded, testing_labels),\n",
    "                   verbose =2)"
   ]
  },
  {
   "cell_type": "code",
   "execution_count": 88,
   "id": "fc52129e",
   "metadata": {},
   "outputs": [
    {
     "data": {
      "text/plain": [
       "[0.8405000567436218, 0.8834500312805176, 0.9045500159263611]"
      ]
     },
     "execution_count": 88,
     "metadata": {},
     "output_type": "execute_result"
    }
   ],
   "source": [
    "history.history['accuracy'][1:4]"
   ]
  },
  {
   "cell_type": "code",
   "execution_count": 93,
   "id": "474d31fe",
   "metadata": {},
   "outputs": [],
   "source": [
    "# plotting\n",
    "def plot_graph(history, string):\n",
    "    plt.plot(history.history[string])\n",
    "    plt.plot(history.history['val_'+string])\n",
    "    plt.xlabel(\"Epochs\")\n",
    "    plt.title('Plot of '+string+' at each Epoch')\n",
    "    plt.ylabel(string)\n",
    "    plt.legend([string, 'val_'+string])\n",
    "    plt.show()\n",
    "    "
   ]
  },
  {
   "cell_type": "code",
   "execution_count": 94,
   "id": "1fbe61eb",
   "metadata": {},
   "outputs": [
    {
     "data": {
      "image/png": "[encoded data removed]",
      "text/plain": [
       "<Figure size 432x288 with 1 Axes>"
      ]
     },
     "metadata": {
      "needs_background": "light"
     },
     "output_type": "display_data"
    }
   ],
   "source": [
    "plot_graph(history, 'accuracy')"
   ]
  },
  {
   "cell_type": "code",
   "execution_count": 95,
   "id": "70d833b0",
   "metadata": {},
   "outputs": [
    {
     "data": {
      "image/png": "[encoded data removed]",
      "text/plain": [
       "<Figure size 432x288 with 1 Axes>"
      ]
     },
     "metadata": {
      "needs_background": "light"
     },
     "output_type": "display_data"
    }
   ],
   "source": [
    "plot_graph(history, 'loss')"
   ]
  },
  {
   "cell_type": "code",
   "execution_count": null,
   "id": "7edabfc3",
   "metadata": {},
   "outputs": [],
   "source": [
    "## Reversing words"
   ]
  },
  {
   "cell_type": "code",
   "execution_count": 152,
   "id": "191237d1",
   "metadata": {},
   "outputs": [],
   "source": [
    "#reverse_word_index = dict([(value, key) for (key, value) in word_index.items()])\n",
    "\n",
    "#def decode_sentence(text):\n",
    "#    return ' '.join([reverse_word_index.get(i, '?') for i in text])\n",
    "\n",
    "#print(decode_sentence(training_padded[2]))\n",
    "#print(training_sentences[2])\n",
    "#print(labels[2])"
   ]
  },
  {
   "cell_type": "markdown",
   "id": "09150702",
   "metadata": {},
   "source": [
    "### testing our model for sentiments"
   ]
  },
  {
   "cell_type": "code",
   "execution_count": 154,
   "id": "9b4a31d8",
   "metadata": {},
   "outputs": [
    {
     "name": "stdout",
     "output_type": "stream",
     "text": [
      "[[0.001]\n",
      " [0.882]\n",
      " [0.   ]]\n"
     ]
    }
   ],
   "source": [
    "sentence = [\"the pleasure of sex\", \"granny starting to fear spiders in the garden might be real\", \"game of thrones season finale showing this sunday night\"]\n",
    "sequences = tokenizer.texts_to_sequences(sentence)\n",
    "padded = pad_sequences(sequences, maxlen=max_length, padding=padding_type, truncating=trunc_type)\n",
    "padded2 = np.array(padded)\n",
    "pred = model.predict(padded)\n",
    "print(np.round(pred, 3))"
   ]
  },
  {
   "cell_type": "code",
   "execution_count": null,
   "id": "0ea17dcc",
   "metadata": {},
   "outputs": [],
   "source": []
  }
 ],
 "metadata": {
  "kernelspec": {
   "display_name": "Python 3 (ipykernel)",
   "language": "python",
   "name": "python3"
  },
  "language_info": {
   "codemirror_mode": {
    "name": "ipython",
    "version": 3
   },
   "file_extension": ".py",
   "mimetype": "text/x-python",
   "name": "python",
   "nbconvert_exporter": "python",
   "pygments_lexer": "ipython3",
   "version": "3.8.12"
  }
 },
 "nbformat": 4,
 "nbformat_minor": 5
}
